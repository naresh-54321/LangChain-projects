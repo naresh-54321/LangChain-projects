{
 "cells": [
  {
   "cell_type": "code",
   "execution_count": null,
   "id": "005ddf93-9ee0-4ac3-adb4-fb6adba2e99e",
   "metadata": {},
   "outputs": [],
   "source": [
    "# LOAD SUMMARIZE CHAIN"
   ]
  },
  {
   "cell_type": "code",
   "execution_count": null,
   "id": "485d5aa8-85ab-471c-8ed1-b6fb3a644a11",
   "metadata": {},
   "outputs": [],
   "source": [
    "from langchain.chat_models import ChatOpenAI\n",
    "from langchain.chains.summarize import load_summarize_chain\n",
    "from langchain.document_loaders import TextLoader"
   ]
  },
  {
   "cell_type": "code",
   "execution_count": null,
   "id": "f69198a0-22b6-44ac-8e2e-c037045f4463",
   "metadata": {},
   "outputs": [],
   "source": [
    "import os\n",
    "os.environ['OPENAI_API_KEY'] = 'YOURAPI_KEY_HERE'"
   ]
  },
  {
   "cell_type": "code",
   "execution_count": null,
   "id": "5eec6094-edc3-493b-874a-d0fbf581daec",
   "metadata": {},
   "outputs": [],
   "source": [
    "llm = ChatOpenAI(temperature=0)"
   ]
  },
  {
   "cell_type": "code",
   "execution_count": null,
   "id": "5a089264-0f4a-413f-a5c3-c3757ebf6b48",
   "metadata": {},
   "outputs": [],
   "source": [
    "loader = TextLoader('22-promptenggIITDELHI.txt', encoding=\"utf = 8\")\n",
    "document = loader.load()"
   ]
  },
  {
   "cell_type": "code",
   "execution_count": null,
   "id": "67460835-73d5-4feb-a89f-811f869cc74d",
   "metadata": {},
   "outputs": [],
   "source": [
    "chain=load_summarize_chain(llm,chain_type = \"stuff\")"
   ]
  },
  {
   "cell_type": "code",
   "execution_count": null,
   "id": "2d19236f-aea6-4b56-92c3-84f34fd4347c",
   "metadata": {},
   "outputs": [],
   "source": [
    "chain.run(document)"
   ]
  },
  {
   "cell_type": "code",
   "execution_count": null,
   "id": "062c6484-f192-408e-9b3c-d6206f05f755",
   "metadata": {},
   "outputs": [],
   "source": [
    "# OR"
   ]
  },
  {
   "cell_type": "code",
   "execution_count": null,
   "id": "161404c5-3193-4e50-9b3f-8acae475db7c",
   "metadata": {},
   "outputs": [],
   "source": [
    "from langchain.chains.combine_documents.stuff import StuffDocumentsChain\n",
    "from langchain.chains.llm import LLMChain\n",
    "from langchain_core.prompts import PromptTemplate"
   ]
  },
  {
   "cell_type": "code",
   "execution_count": null,
   "id": "9e27c946-de49-4b2c-b821-a2fcef931be3",
   "metadata": {},
   "outputs": [],
   "source": [
    "prompt_template = \"\"\"write a concise summary of the following document:\n",
    "{document}\n",
    "concise_summary\"\"\""
   ]
  },
  {
   "cell_type": "code",
   "execution_count": null,
   "id": "17a75667-0f62-4896-a0bb-cae24e5ebc4c",
   "metadata": {},
   "outputs": [],
   "source": [
    "prompt = PromptTemplate.from_template(prompt_template)"
   ]
  },
  {
   "cell_type": "code",
   "execution_count": null,
   "id": "c2a5612c-e0e0-4b8f-b9a2-e52bbe5594f3",
   "metadata": {},
   "outputs": [],
   "source": [
    "llm = ChatOpenAI(temperature=0)\n",
    "llm_chain = LLMChain(llm=llm, prompt=prompt)"
   ]
  },
  {
   "cell_type": "code",
   "execution_count": null,
   "id": "cef3c92d-9dac-4a44-9366-a3f0b1781b17",
   "metadata": {},
   "outputs": [],
   "source": [
    "stuff_chain = StuffDocumentsChain(llm_chain=llm_chain, document_variable_name=\"document\")"
   ]
  },
  {
   "cell_type": "code",
   "execution_count": null,
   "id": "4d0cdb6e-1e72-43c1-8132-f90c9948f8d0",
   "metadata": {},
   "outputs": [],
   "source": [
    "docs = loader.load()"
   ]
  },
  {
   "cell_type": "code",
   "execution_count": null,
   "id": "ae1e085a-1e3e-4acd-81c1-06fe2bae87a1",
   "metadata": {},
   "outputs": [],
   "source": [
    "print(stuff_chain.run(docs))"
   ]
  },
  {
   "cell_type": "code",
   "execution_count": null,
   "id": "c2df7bdd-c620-493c-bfe3-e75d7ad240be",
   "metadata": {},
   "outputs": [],
   "source": []
  }
 ],
 "metadata": {
  "kernelspec": {
   "display_name": "Python 3 (ipykernel)",
   "language": "python",
   "name": "python3"
  },
  "language_info": {
   "codemirror_mode": {
    "name": "ipython",
    "version": 3
   },
   "file_extension": ".py",
   "mimetype": "text/x-python",
   "name": "python",
   "nbconvert_exporter": "python",
   "pygments_lexer": "ipython3",
   "version": "3.11.7"
  }
 },
 "nbformat": 4,
 "nbformat_minor": 5
}
