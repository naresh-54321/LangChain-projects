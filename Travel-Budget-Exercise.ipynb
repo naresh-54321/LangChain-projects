{
 "cells": [
  {
   "cell_type": "code",
   "execution_count": null,
   "id": "b3375057-827a-450e-87d1-726eddf089f7",
   "metadata": {},
   "outputs": [],
   "source": [
    "from langchain.chat_models import ChatOpenAI "
   ]
  },
  {
   "cell_type": "code",
   "execution_count": null,
   "id": "5b01696c-1dc4-4e4b-82b4-cabfe21574d3",
   "metadata": {},
   "outputs": [],
   "source": [
    "from langchain.prompts import ChatPromptTemplate, SystemMessagePromptTemplate, HumanMessagePromptTemplate "
   ]
  },
  {
   "cell_type": "code",
   "execution_count": null,
   "id": "c061a81d-f124-44ce-a397-8a09d00ef1e0",
   "metadata": {},
   "outputs": [],
   "source": [
    "from langchain.llms import OpenAI"
   ]
  },
  {
   "cell_type": "code",
   "execution_count": null,
   "id": "2b271945-fee7-4356-95dd-640fa9127283",
   "metadata": {},
   "outputs": [],
   "source": [
    "import os"
   ]
  },
  {
   "cell_type": "code",
   "execution_count": null,
   "id": "7494d866-8c19-49b9-8903-e484ead8aef5",
   "metadata": {},
   "outputs": [],
   "source": [
    "os.environ['OPENAI_API_KEY'] = 'your_api_key'"
   ]
  },
  {
   "cell_type": "code",
   "execution_count": null,
   "id": "686c1bc8-7f46-472f-b547-61478e72d4da",
   "metadata": {},
   "outputs": [],
   "source": [
    "api_key = os.environ['OPENAI_API_KEY']"
   ]
  },
  {
   "cell_type": "code",
   "execution_count": null,
   "id": "c3018f46-4640-4ee8-8f20-4cf68de057ee",
   "metadata": {},
   "outputs": [],
   "source": [
    "Chat = OpenAI(openai_api_key=api_key)"
   ]
  },
  {
   "cell_type": "code",
   "execution_count": null,
   "id": "b8202884-c92f-45d3-b38d-4b5105550122",
   "metadata": {},
   "outputs": [],
   "source": [
    "def travel_idea(interest,budget):\n",
    "    system_template = 'you are an travel agent that helps people trips about {interest}  on budget of {budget}.'\n",
    "    system_message_prompt = SystemMessagePromptTemplate.from_template(system_template)\n",
    "    human_template = 'please give an example itenerary'\n",
    "    human_message_prompt = HumanMessagePromptTemplate.from_template(human_template)\n",
    "    chat_prompt = ChatPromptTemplate.from_messages([system_message_prompt,\n",
    "                                                    human_message_prompt])\n",
    "    request =chat_prompt.format_prompt(interest=interest, budget=budget).to_messages()\n",
    "    result = Chat.generate(request)\n",
    "    return result"
   ]
  },
  {
   "cell_type": "code",
   "execution_count": null,
   "id": "cbcf2658-a173-4ea7-805b-2132c64b2cc6",
   "metadata": {},
   "outputs": [],
   "source": [
    "print(travel_idea(interest = 'hiking', budget = '10,000'))"
   ]
  },
  {
   "cell_type": "code",
   "execution_count": null,
   "id": "4296e0e1-c87c-41bb-ad11-4e6a217e483a",
   "metadata": {},
   "outputs": [],
   "source": []
  }
 ],
 "metadata": {
  "kernelspec": {
   "display_name": "Python 3 (ipykernel)",
   "language": "python",
   "name": "python3"
  },
  "language_info": {
   "codemirror_mode": {
    "name": "ipython",
    "version": 3
   },
   "file_extension": ".py",
   "mimetype": "text/x-python",
   "name": "python",
   "nbconvert_exporter": "python",
   "pygments_lexer": "ipython3",
   "version": "3.11.7"
  }
 },
 "nbformat": 4,
 "nbformat_minor": 5
}
