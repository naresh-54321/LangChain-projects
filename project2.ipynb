{
 "cells": [
  {
   "cell_type": "code",
   "execution_count": null,
   "id": "5ffd58d1-b053-41dd-a0b0-e24acd9ca02b",
   "metadata": {},
   "outputs": [],
   "source": [
    "# QA CHAIN(QUESTION ANSWERING)"
   ]
  },
  {
   "cell_type": "code",
   "execution_count": null,
   "id": "2b70a436-8d85-4065-bf90-483dc4561450",
   "metadata": {},
   "outputs": [],
   "source": [
    "from langchain.chat_models import ChatOpenAI\n",
    "from langchain.embeddings import OpenAIEmbeddings\n",
    "from langchain.vectorstores import Chroma\n",
    "from langchain.text_splitter import CharacterTextSplitter\n",
    "from langchain.document_loaders import TextLoader\n",
    "from langchain.chains.question_answering import load_qa_chain\n",
    "from langchain.chains.qa_with_sources import load_qa_with_sources_chain"
   ]
  },
  {
   "cell_type": "code",
   "execution_count": null,
   "id": "67c30c16-7524-4fe3-a14d-289458e06902",
   "metadata": {},
   "outputs": [],
   "source": [
    "import os \n",
    "os.environ[\"OPENAI_API_KEY\"] = 'sk-jneirlvun489jncdn4jnfjn49d'"
   ]
  },
  {
   "cell_type": "code",
   "execution_count": null,
   "id": "78a3d2fb-9534-403d-9ff8-8d2cbeee13ca",
   "metadata": {},
   "outputs": [],
   "source": [
    "llm =ChatOpenAI(temperature = 0)"
   ]
  },
  {
   "cell_type": "code",
   "execution_count": null,
   "id": "99a43262-8ef0-412a-b6ad-3693ee7dc469",
   "metadata": {},
   "outputs": [],
   "source": [
    "embedding_function = OpenAIEmbeddings()"
   ]
  },
  {
   "cell_type": "code",
   "execution_count": null,
   "id": "6cc29ed9-9247-48c8-8392-5ebef3bd7fa2",
   "metadata": {},
   "outputs": [],
   "source": [
    "loader = TextLoader(\"indian_constitution.txt\", encoding= \"utf-8\") # due to codec error iam using encoding\n",
    "document = loader.load()"
   ]
  },
  {
   "cell_type": "code",
   "execution_count": null,
   "id": "65166cbf-0abf-4b9a-9ea3-71fed6197dda",
   "metadata": {},
   "outputs": [],
   "source": [
    "text_splitter = CharacterTextSplitter.from_tiktoken_encoder(chunk_size = 500)\n",
    "docs = text_splitter.split_documents(document)"
   ]
  },
  {
   "cell_type": "code",
   "execution_count": null,
   "id": "0ec537a7-d3ff-4463-b647-107a9ba2791e",
   "metadata": {},
   "outputs": [],
   "source": [
    "len(docs)"
   ]
  },
  {
   "cell_type": "code",
   "execution_count": null,
   "id": "176caa02-5e89-4ad8-aaad-5cfa70df85f0",
   "metadata": {},
   "outputs": [],
   "source": [
    "print(docs[0].page_content)"
   ]
  },
  {
   "cell_type": "code",
   "execution_count": null,
   "id": "c3aad6aa-c737-4692-b2bc-195408203802",
   "metadata": {},
   "outputs": [],
   "source": [
    "db_connection = Chroma.from_documents(docs,embedding_function,persist_directory=\"./indian_constitution\")\n",
    "db.persist()"
   ]
  },
  {
   "cell_type": "code",
   "execution_count": null,
   "id": "80d7fb6a-189a-46a7-8b57-a43f028e1e7f",
   "metadata": {},
   "outputs": [],
   "source": [
    "db_new_connection = Chroma(persist_directory=\"./indian_constitution\",embedding_function=embedding_function)"
   ]
  },
  {
   "cell_type": "code",
   "execution_count": null,
   "id": "6b88b6f9-ee52-4ab8-ae51-d8fee254cdd8",
   "metadata": {},
   "outputs": [],
   "source": [
    "chain = load_qa_chain(llm,chain_type=\"stuff\")"
   ]
  },
  {
   "cell_type": "code",
   "execution_count": null,
   "id": "744d5aed-9cf9-4701-b4f3-5b044356d84a",
   "metadata": {},
   "outputs": [],
   "source": [
    "question = 'what is fourty four amendment'"
   ]
  },
  {
   "cell_type": "code",
   "execution_count": null,
   "id": "be3baa1e-916d-47a2-b372-b7bf4cc5b4a8",
   "metadata": {},
   "outputs": [],
   "source": [
    "doc = db_new_connection.similarity_search(question)"
   ]
  },
  {
   "cell_type": "code",
   "execution_count": null,
   "id": "352f9af9-c02b-4ae9-af14-d62ea2dd673f",
   "metadata": {},
   "outputs": [],
   "source": [
    "chain.run(input_documents =docs,question=question)"
   ]
  },
  {
   "cell_type": "code",
   "execution_count": null,
   "id": "2e48c9bf-77f0-4ecc-be9d-68ec1a1769a3",
   "metadata": {},
   "outputs": [],
   "source": []
  }
 ],
 "metadata": {
  "kernelspec": {
   "display_name": "Python 3 (ipykernel)",
   "language": "python",
   "name": "python3"
  },
  "language_info": {
   "codemirror_mode": {
    "name": "ipython",
    "version": 3
   },
   "file_extension": ".py",
   "mimetype": "text/x-python",
   "name": "python",
   "nbconvert_exporter": "python",
   "pygments_lexer": "ipython3",
   "version": "3.11.7"
  }
 },
 "nbformat": 4,
 "nbformat_minor": 5
}
