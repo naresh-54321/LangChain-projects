{
 "cells": [
  {
   "cell_type": "code",
   "execution_count": null,
   "id": "76ee858c-d549-4dc8-8301-36ef8f7889d1",
   "metadata": {},
   "outputs": [],
   "source": [
    "from langchain.llms import OpenAI"
   ]
  },
  {
   "cell_type": "code",
   "execution_count": null,
   "id": "949d54b2-3672-4dd5-adf8-6803aa72fa41",
   "metadata": {},
   "outputs": [],
   "source": [
    "from langchain.chat_models import ChatOpenAI"
   ]
  },
  {
   "cell_type": "code",
   "execution_count": null,
   "id": "3556eadf-e666-465b-9d8e-bd678183546f",
   "metadata": {},
   "outputs": [],
   "source": [
    "from langchain.prompts import ChatPromptTemplate, SystemMessagePromptTemplate, AIMessagePromptTemplate,HumanMessagePromptTemplate"
   ]
  },
  {
   "cell_type": "code",
   "execution_count": null,
   "id": "d6c2c7c0-c47f-4b06-b363-b2aaf12a883a",
   "metadata": {},
   "outputs": [],
   "source": [
    "import os"
   ]
  },
  {
   "cell_type": "code",
   "execution_count": null,
   "id": "7c78f86b-bd92-44a0-a585-f50840a01e85",
   "metadata": {},
   "outputs": [],
   "source": [
    "os.environ['OPENAI_API_KEY'] = 'YOUR_API_KEY_HERE'"
   ]
  },
  {
   "cell_type": "code",
   "execution_count": null,
   "id": "6b8c3dd9-4687-4a0f-ba0d-b8470f116b9a",
   "metadata": {},
   "outputs": [],
   "source": [
    "api_key = os.environ['OPENAI_API_KEY']"
   ]
  },
  {
   "cell_type": "code",
   "execution_count": null,
   "id": "e1dfa137-ec75-42fc-a399-a770e5387ef9",
   "metadata": {},
   "outputs": [],
   "source": [
    "Chat = OpenAI(openai_api_key=api_key)"
   ]
  },
  {
   "cell_type": "code",
   "execution_count": null,
   "id": "9baa894d-076b-4ae5-8143-bdcdeb848dde",
   "metadata": {},
   "outputs": [],
   "source": [
    "from datetime import datetime"
   ]
  },
  {
   "cell_type": "code",
   "execution_count": null,
   "id": "c6a58056-655c-4998-af1d-2831312c68df",
   "metadata": {},
   "outputs": [],
   "source": [
    "from langchain.output_parsers import DatetimeOutputParser"
   ]
  },
  {
   "cell_type": "code",
   "execution_count": null,
   "id": "2acb0b47-d57c-4c00-9f73-c8756be60643",
   "metadata": {},
   "outputs": [],
   "source": [
    "class Historyquiz():\n",
    "    def create_history_question(self,topic):\n",
    "        system_template = 'you write simple question about a {topic}. you only returm the quiz answer'\n",
    "        system_message_prompt = SystemMessagePromptTemplate.from_template(system_template)\n",
    "        human_template = '{question_request}'\n",
    "        human_message_prompt = HumanMessagePromptTemplate.from_template(human_template)\n",
    "        chat_prompt = ChatPromptTemplate.from_messages([system_message_prompt, human_message_prompt])\n",
    "        q = 'give me aquiz question where the correct is specific date'\n",
    "        request = chat_prompt.format_prompt(topic=topic, question_request =q).to_messages()\n",
    "        result = Chat.generate(request)\n",
    "        return result\n",
    "    def get_AI_answer(self,question):\n",
    "        output_parser = DatetimeOutputParser()\n",
    "        system_template = 'you answer quiz question with just a date'\n",
    "        system_message_prompt = SystemMessagePromptTemplate.from_template(system_template)\n",
    "        human_template = \"\"\"Answer user question :\n",
    "                        {question}\n",
    "                        {format_instructions}\"\"\"\n",
    "        human_message_prompt = HumanMessagePromptTemplate.from_template(human_template)\n",
    "        chat_prompt = ChatPromptTemplate.from_messages([system_message_prompt, human_message_prompt])\n",
    "        request = chat_prompt.format_prompt(question = question, format_instructions = output_parser.get_format_instructions()).to_messages()\n",
    "        result = Chat.generate(request)\n",
    "        correct_datetime = output_parser.parse(result)\n",
    "        return correct_datetime\n",
    "    def get_user_answer(self,question):\n",
    "        print(question)\n",
    "        print('\\n')\n",
    "        year = int(input('Enter the year: '))\n",
    "        month = int(input('Enter the month(1-12): '))\n",
    "        day = int(input('Enter the day(1-31): '))\n",
    "        user_datetime = datetime(year,month,day)\n",
    "        return user_datetime\n",
    "    def check_user_answer(self,user_answer,ai_answer):\n",
    "        difference = user_answer-ai_answer\n",
    "        formated_difference = str(difference)\n",
    "        print('the difference between the answer and your guess: ',formated_difference)\n",
    "\n"
   ]
  },
  {
   "cell_type": "code",
   "execution_count": null,
   "id": "09c56d3e-d6b1-448f-ac16-bb4ef2a89db0",
   "metadata": {},
   "outputs": [],
   "source": [
    "quiz_bot = Historyquiz()"
   ]
  },
  {
   "cell_type": "code",
   "execution_count": null,
   "id": "fa827f69-b2d7-4c6a-a1b5-d6b1c5ffa455",
   "metadata": {},
   "outputs": [],
   "source": [
    "question = quiz_bot.create_history_question(topic= 'science')"
   ]
  },
  {
   "cell_type": "code",
   "execution_count": null,
   "id": "9ce1afac-3343-4121-ae83-ffd7c99b90dd",
   "metadata": {},
   "outputs": [],
   "source": [
    "question"
   ]
  },
  {
   "cell_type": "code",
   "execution_count": null,
   "id": "31d68596-2699-4540-8534-6929ab4efc1b",
   "metadata": {},
   "outputs": [],
   "source": [
    "ai_answer = quiz_bot.get_AI_answer(question)"
   ]
  },
  {
   "cell_type": "code",
   "execution_count": null,
   "id": "8e5904f5-9a4b-448a-a045-77f7d17003a7",
   "metadata": {},
   "outputs": [],
   "source": [
    "ai_answer"
   ]
  },
  {
   "cell_type": "code",
   "execution_count": null,
   "id": "a0f45161-f841-4a00-bd2c-912536814a2b",
   "metadata": {},
   "outputs": [],
   "source": [
    "user_answer = quiz_bot.get_user_answer(question)"
   ]
  },
  {
   "cell_type": "code",
   "execution_count": null,
   "id": "62aba7eb-ef2d-4ec6-9a28-c016797dd48c",
   "metadata": {},
   "outputs": [],
   "source": [
    "quiz_bot.check_user_answer(user_answer, ai_answer)"
   ]
  },
  {
   "cell_type": "code",
   "execution_count": null,
   "id": "0c6c5882-6e81-4220-b9a5-9c279246e68a",
   "metadata": {},
   "outputs": [],
   "source": []
  }
 ],
 "metadata": {
  "kernelspec": {
   "display_name": "Python 3 (ipykernel)",
   "language": "python",
   "name": "python3"
  },
  "language_info": {
   "codemirror_mode": {
    "name": "ipython",
    "version": 3
   },
   "file_extension": ".py",
   "mimetype": "text/x-python",
   "name": "python",
   "nbconvert_exporter": "python",
   "pygments_lexer": "ipython3",
   "version": "3.11.7"
  }
 },
 "nbformat": 4,
 "nbformat_minor": 5
}
