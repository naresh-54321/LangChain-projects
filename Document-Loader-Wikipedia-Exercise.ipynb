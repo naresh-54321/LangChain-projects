{
 "cells": [
  {
   "cell_type": "code",
   "execution_count": null,
   "id": "c037acd8-dfa6-4824-adbd-eb89326343d0",
   "metadata": {},
   "outputs": [],
   "source": [
    "pip install wikipedia"
   ]
  },
  {
   "cell_type": "code",
   "execution_count": null,
   "id": "f7ef0f27-e5e7-44c7-a2cb-f4dacfac08c4",
   "metadata": {},
   "outputs": [],
   "source": [
    "from langchain.prompts import ChatPromptTemplate, HumanMessagePromptTemplate, SystemMessagePromptTemplate"
   ]
  },
  {
   "cell_type": "code",
   "execution_count": null,
   "id": "9498a7cd-e053-4a58-8d46-3bc2109294eb",
   "metadata": {},
   "outputs": [],
   "source": [
    "from langchain.chat_models import ChatOpenAI"
   ]
  },
  {
   "cell_type": "code",
   "execution_count": null,
   "id": "2c112dd1-78ee-4322-aec4-23caecb12185",
   "metadata": {},
   "outputs": [],
   "source": [
    "from langchain.document_loaders import WikipediaLoader"
   ]
  },
  {
   "cell_type": "code",
   "execution_count": null,
   "id": "763e7605-024c-48b6-beba-2a0446fef358",
   "metadata": {},
   "outputs": [],
   "source": [
    "f= open('api.txt.txt')\n",
    "api_key = f.read()"
   ]
  },
  {
   "cell_type": "code",
   "execution_count": null,
   "id": "a62b1a54-236c-41ae-b4d5-2f21e9818b3d",
   "metadata": {},
   "outputs": [],
   "source": [
    "from langchain.llms import OpenAI"
   ]
  },
  {
   "cell_type": "code",
   "execution_count": null,
   "id": "7a58db6b-7ced-4261-acc9-65f12867e63e",
   "metadata": {},
   "outputs": [],
   "source": [
    "model = OpenAI(openai_api_key=api_key)"
   ]
  },
  {
   "cell_type": "code",
   "execution_count": null,
   "id": "1c7aa9fb-8b54-4cbd-95c4-db62a89b8f5e",
   "metadata": {},
   "outputs": [],
   "source": [
    "def answer_question_about(person_name, question):\n",
    "    loader = WikipediaLoader(query=person_name, load_max_docs = 1)\n",
    "    context_text = loader.load()[0].page_content\n",
    "    human_template = 'answer this questions:\\n{question}\\n here is some extra content \\n{document}'\n",
    "    humuan_message_prompt = HumanMessagePromptTemplate.from_template(human_template)\n",
    "    chat_prompt= ChatPromptTemplate.from_messages([humuan_message_prompt])\n",
    "    request = chat_prompt.format_prompt(question=question, document=context_text).to_messages()\n",
    "    result = model.generate(request)\n",
    "    print(result)"
   ]
  },
  {
   "cell_type": "code",
   "execution_count": null,
   "id": "6492bdd6-4a31-49f4-8eff-e68c5f47f68b",
   "metadata": {},
   "outputs": [],
   "source": [
    "answer_question_about('abdul kalaam','when was he born?')"
   ]
  },
  {
   "cell_type": "code",
   "execution_count": null,
   "id": "447d960d-86cf-4fbd-afc6-016c31866ad5",
   "metadata": {},
   "outputs": [],
   "source": []
  }
 ],
 "metadata": {
  "kernelspec": {
   "display_name": "Python 3 (ipykernel)",
   "language": "python",
   "name": "python3"
  },
  "language_info": {
   "codemirror_mode": {
    "name": "ipython",
    "version": 3
   },
   "file_extension": ".py",
   "mimetype": "text/x-python",
   "name": "python",
   "nbconvert_exporter": "python",
   "pygments_lexer": "ipython3",
   "version": "3.11.7"
  }
 },
 "nbformat": 4,
 "nbformat_minor": 5
}
