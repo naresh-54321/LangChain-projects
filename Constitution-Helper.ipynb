{
 "cells": [
  {
   "cell_type": "code",
   "execution_count": null,
   "id": "9ed7283e-b342-4f2d-a853-0cd1233895ee",
   "metadata": {},
   "outputs": [],
   "source": [
    "from langchain.vectorstores import Chroma"
   ]
  },
  {
   "cell_type": "code",
   "execution_count": null,
   "id": "85b1638e-5e99-4734-abc7-34d9d1ca580c",
   "metadata": {},
   "outputs": [],
   "source": [
    "from langchain.embeddings import OpenAIEmbeddings"
   ]
  },
  {
   "cell_type": "code",
   "execution_count": null,
   "id": "d7885da8-1eb8-4518-a872-11e84a8f743b",
   "metadata": {},
   "outputs": [],
   "source": [
    "from langchain.chat_models import ChatOpenAI"
   ]
  },
  {
   "cell_type": "code",
   "execution_count": null,
   "id": "0e3c6ed7-9a2f-4d22-a430-fc9c1a5468fc",
   "metadata": {},
   "outputs": [],
   "source": [
    "from langchain.retrievers import ContextualCompressionRetriever"
   ]
  },
  {
   "cell_type": "code",
   "execution_count": null,
   "id": "a946e160-9509-4e5e-b213-64cf9886673e",
   "metadata": {},
   "outputs": [],
   "source": [
    "from langchain.retrievers.document_compressors import LLMChainExtractor"
   ]
  },
  {
   "cell_type": "code",
   "execution_count": null,
   "id": "695600ed-47eb-46fd-86cf-5385d2903629",
   "metadata": {},
   "outputs": [],
   "source": [
    "from langchain.text_splitter import CharacterTextSplitter"
   ]
  },
  {
   "cell_type": "code",
   "execution_count": null,
   "id": "ea9b1cc7-6f5d-49f9-98f9-fd7eec7c6832",
   "metadata": {},
   "outputs": [],
   "source": [
    "from langchain.document_loaders import TextLoader"
   ]
  },
  {
   "cell_type": "code",
   "execution_count": null,
   "id": "6bbf856a-a79a-4dee-bf96-bfdb387d914d",
   "metadata": {},
   "outputs": [],
   "source": [
    "import os\n",
    "os.environ['OPENAI_API_KEY'] = 'YOUR_API_KEY_HERE'"
   ]
  },
  {
   "cell_type": "code",
   "execution_count": null,
   "id": "ca99f0f8-a70c-4d9d-a91c-28cd47cf07fe",
   "metadata": {},
   "outputs": [],
   "source": [
    "def us_constitution_helper(question):\n",
    "    loader = TextLoader('US_Constitution.txt')\n",
    "    documents = loader.load()\n",
    "    text_splitter = CharacterTextSplitter.from_tiktoken_encoder(chunk_size = 500)\n",
    "    docs = text_splitter.split_documents(documents)\n",
    "    embedding_function = OpenAIEmbeddings()\n",
    "    db = Chroma.from_documents(docs,embedding_function,persist_directory = './solution')\n",
    "    db.persist()\n",
    "    llm = ChatOpenAI(temperature = 0)\n",
    "    compressor = LLMChainExtractor.from_llm(llm)\n",
    "    compression_retriever = ContextualCompressionRetriever(base_compressor = compressor, base_retriever = db.as_retriver())\n",
    "    compressed_docs = compression_retriever.get_relevant_documents('question')\n",
    "    print(compressed_docs[0].page_content)"
   ]
  },
  {
   "cell_type": "code",
   "execution_count": null,
   "id": "b2eaf85d-9ee7-4fc3-ac4c-030a3b652530",
   "metadata": {},
   "outputs": [],
   "source": [
    "us_constitution_helper('what is 1 st amendment')"
   ]
  },
  {
   "cell_type": "code",
   "execution_count": null,
   "id": "20df77dd-cb89-4793-8425-f4fb12aeaf1d",
   "metadata": {},
   "outputs": [],
   "source": []
  }
 ],
 "metadata": {
  "kernelspec": {
   "display_name": "Python 3 (ipykernel)",
   "language": "python",
   "name": "python3"
  },
  "language_info": {
   "codemirror_mode": {
    "name": "ipython",
    "version": 3
   },
   "file_extension": ".py",
   "mimetype": "text/x-python",
   "name": "python",
   "nbconvert_exporter": "python",
   "pygments_lexer": "ipython3",
   "version": "3.11.7"
  }
 },
 "nbformat": 4,
 "nbformat_minor": 5
}
